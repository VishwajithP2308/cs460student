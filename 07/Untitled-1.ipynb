{
 "cells": [
  {
   "cell_type": "code",
   "execution_count": null,
   "metadata": {},
   "outputs": [],
   "source": []
  },
  {
   "cell_type": "code",
   "execution_count": 31,
   "metadata": {},
   "outputs": [
    {
     "name": "stdout",
     "output_type": "stream",
     "text": [
      "{'first_name': 'Asabeneh', 'last_name': 'Yetayeh', 'age': 250, 'country': 'Finland', 'is_marred': True, 'skills': ['JavaScript', 'React', 'Node', 'MongoDB', 'Python'], 'address': {'street': 'Space street', 'zipcode': '02210'}}\n",
      "2\n",
      "Node\n",
      "['JavaScript', 'React', 'Node', 'MongoDB', 'Python']\n",
      "unknown title\n",
      "Asabeneh Yetayeh lives in Finland. He is married.\n",
      "['JavaScript', 'React', 'Node', 'MongoDB', 'Python']\n"
     ]
    }
   ],
   "source": [
    "\"\"\"\n",
    "age = int(input(\"enter your age\"))\n",
    "print(age)\n",
    "if age >= 18 :\n",
    "    print('elgible to vote')\n",
    "else:\n",
    "        print('you need ', 18-age ,'years to learn to drive')\n",
    "\n",
    "my_age = int(input(\"enter your age\"))\n",
    "your_age =  int(input(\"enter your age\"))\n",
    "if my_age >> your_age :\n",
    "    print('i am',my_age-your_age,'years older than you')\n",
    "elif my_age == your_age :\n",
    "    print('we both are of same age')\n",
    "else :\n",
    "    print(\"you are \",your_age-my_age,'younger than me')\n",
    "\n",
    "a = int(input('enter a'))\n",
    "b = int(input('enter b'))\n",
    "print(a)\n",
    "print(b)\n",
    "if a>>b :\n",
    "    print('a is greater than b')\n",
    "elif a == b :\n",
    "    print('a is equal to b')\n",
    "else :\n",
    "    print('b is greater than a')\n",
    "\n",
    "grade = int(input(\"enter your grade\"))\n",
    "if grade>=80 and grade<=100 :\n",
    "    print('Grade A')\n",
    "elif grade>=70 and grade<=79 :\n",
    "    print('Grade B') \n",
    "elif grade>=60 and grade<=69 :\n",
    "    print('Grade c')  \n",
    "else :\n",
    "    print('Grade F')     \n",
    "\n",
    "fruits = ['banana', 'orange', 'mango', 'lemon']\n",
    "fruit = input ('enter the fruit you wanna check')\n",
    "if fruit == 'banana' or fruit == 'orange' or fruit == 'mango' or fruit == 'lemon':\n",
    "    print('fruit exists')\n",
    "else :\n",
    "    fruits.insert(0,fruit)\n",
    "    print(fruits)\n",
    "\"\"\"\n",
    "person={\n",
    "    'first_name': 'Asabeneh','last_name': 'Yetayeh','age': 250,'country': 'Finland', 'is_marred': True,\n",
    "    'skills': ['JavaScript', 'React', 'Node', 'MongoDB', 'Python'],\n",
    "    'address': {\n",
    "        'street': 'Space street',\n",
    "        'zipcode': '02210'\n",
    "    }\n",
    "    }   \n",
    "print(person)\n",
    "b = int(len(person['skills'])/2)\n",
    "print(b)\n",
    "print(person['skills'][b])\n",
    "\n",
    "print(person['skills'])\n",
    "\n",
    "if person['skills'] == 'JavaScript' and 'React' :\n",
    "    print('front end developer')\n",
    "elif person['skills'] == 'Node' and 'Python' and 'MongoDB' :\n",
    "        print('back end')\n",
    "else :\n",
    "    print('unknown title')     \n",
    "    \n",
    "if person['is_marred'] == True and person['country'] == 'Finland' :\n",
    "    print('Asabeneh Yetayeh lives in Finland. He is married.')    \n",
    "\n",
    "print(person.get('skills'))\n",
    "\n",
    "\n",
    "\n",
    "\n"
   ]
  }
 ],
 "metadata": {
  "kernelspec": {
   "display_name": "Python 3.10.7 64-bit",
   "language": "python",
   "name": "python3"
  },
  "language_info": {
   "codemirror_mode": {
    "name": "ipython",
    "version": 3
   },
   "file_extension": ".py",
   "mimetype": "text/x-python",
   "name": "python",
   "nbconvert_exporter": "python",
   "pygments_lexer": "ipython3",
   "version": "3.10.7"
  },
  "orig_nbformat": 4,
  "vscode": {
   "interpreter": {
    "hash": "369f2c481f4da34e4445cda3fffd2e751bd1c4d706f27375911949ba6bb62e1c"
   }
  }
 },
 "nbformat": 4,
 "nbformat_minor": 2
}
